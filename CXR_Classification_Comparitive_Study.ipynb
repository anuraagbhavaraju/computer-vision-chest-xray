{
  "nbformat": 4,
  "nbformat_minor": 0,
  "metadata": {
    "colab": {
      "provenance": [],
      "authorship_tag": "ABX9TyMvSXKskUsUolhSs+rz8bAr",
      "include_colab_link": true
    },
    "kernelspec": {
      "name": "python3",
      "display_name": "Python 3"
    },
    "language_info": {
      "name": "python"
    }
  },
  "cells": [
    {
      "cell_type": "markdown",
      "metadata": {
        "id": "view-in-github",
        "colab_type": "text"
      },
      "source": [
        "<a href=\"https://colab.research.google.com/github/anuraagbhavaraju/computer-vision-chest-xray/blob/import_data/CXR_Classification_Comparitive_Study.ipynb\" target=\"_parent\"><img src=\"https://colab.research.google.com/assets/colab-badge.svg\" alt=\"Open In Colab\"/></a>"
      ]
    },
    {
      "cell_type": "markdown",
      "metadata": {
        "id": "cG0Lo5WOS6pA"
      },
      "source": [
        "## Importing Data from Kaggle"
      ]
    },
    {
      "cell_type": "code",
      "execution_count": null,
      "metadata": {
        "colab": {
          "base_uri": "https://localhost:8080/"
        },
        "id": "DanRrqdAL29r",
        "outputId": "474aa099-4936-4c5b-c09a-3facf82ea263"
      },
      "outputs": [
        {
          "output_type": "stream",
          "name": "stdout",
          "text": [
            "Requirement already satisfied: kaggle in /usr/local/lib/python3.10/dist-packages (1.5.16)\n",
            "Requirement already satisfied: six>=1.10 in /usr/local/lib/python3.10/dist-packages (from kaggle) (1.16.0)\n",
            "Requirement already satisfied: certifi in /usr/local/lib/python3.10/dist-packages (from kaggle) (2023.7.22)\n",
            "Requirement already satisfied: python-dateutil in /usr/local/lib/python3.10/dist-packages (from kaggle) (2.8.2)\n",
            "Requirement already satisfied: requests in /usr/local/lib/python3.10/dist-packages (from kaggle) (2.31.0)\n",
            "Requirement already satisfied: tqdm in /usr/local/lib/python3.10/dist-packages (from kaggle) (4.66.1)\n",
            "Requirement already satisfied: python-slugify in /usr/local/lib/python3.10/dist-packages (from kaggle) (8.0.1)\n",
            "Requirement already satisfied: urllib3 in /usr/local/lib/python3.10/dist-packages (from kaggle) (2.0.7)\n",
            "Requirement already satisfied: bleach in /usr/local/lib/python3.10/dist-packages (from kaggle) (6.1.0)\n",
            "Requirement already satisfied: webencodings in /usr/local/lib/python3.10/dist-packages (from bleach->kaggle) (0.5.1)\n",
            "Requirement already satisfied: text-unidecode>=1.3 in /usr/local/lib/python3.10/dist-packages (from python-slugify->kaggle) (1.3)\n",
            "Requirement already satisfied: charset-normalizer<4,>=2 in /usr/local/lib/python3.10/dist-packages (from requests->kaggle) (3.3.1)\n",
            "Requirement already satisfied: idna<4,>=2.5 in /usr/local/lib/python3.10/dist-packages (from requests->kaggle) (3.4)\n"
          ]
        }
      ],
      "source": [
        "! pip install kaggle"
      ]
    },
    {
      "cell_type": "code",
      "execution_count": null,
      "metadata": {
        "id": "mVl3mMZwMDWT"
      },
      "outputs": [],
      "source": [
        "! mkdir ~/.kaggle"
      ]
    },
    {
      "cell_type": "code",
      "execution_count": null,
      "metadata": {
        "id": "BtRLG8A8MKSh"
      },
      "outputs": [],
      "source": [
        "! cp kaggle.json ~/.kaggle/"
      ]
    },
    {
      "cell_type": "code",
      "execution_count": null,
      "metadata": {
        "id": "0wVDcD9LPqdX"
      },
      "outputs": [],
      "source": [
        "! chmod 600 ~/.kaggle/kaggle.json"
      ]
    },
    {
      "cell_type": "code",
      "execution_count": null,
      "metadata": {
        "colab": {
          "base_uri": "https://localhost:8080/"
        },
        "id": "Bsc5yuAsPu3E",
        "outputId": "28aaa2b2-7098-44ba-b6b2-e58821d07e4a"
      },
      "outputs": [
        {
          "output_type": "stream",
          "name": "stdout",
          "text": [
            "Downloading tuberculosis-chest-xrays-montgomery.zip to /content\n",
            " 97% 566M/585M [00:06<00:00, 115MB/s]\n",
            "100% 585M/585M [00:06<00:00, 98.3MB/s]\n"
          ]
        }
      ],
      "source": [
        "!kaggle datasets download -d raddar/tuberculosis-chest-xrays-montgomery"
      ]
    },
    {
      "cell_type": "code",
      "execution_count": null,
      "metadata": {
        "id": "H3rY0PFnP49P"
      },
      "outputs": [],
      "source": [
        "!unzip /content/tuberculosis-chest-xrays-montgomery.zip"
      ]
    },
    {
      "cell_type": "code",
      "source": [
        "!kaggle datasets download -d raddar/tuberculosis-chest-xrays-shenzhen"
      ],
      "metadata": {
        "colab": {
          "base_uri": "https://localhost:8080/"
        },
        "id": "ucooJU5r-3TJ",
        "outputId": "b0c4aac9-337a-4fa9-e8dd-85dfcb2c672f"
      },
      "execution_count": null,
      "outputs": [
        {
          "output_type": "stream",
          "name": "stdout",
          "text": [
            "Downloading tuberculosis-chest-xrays-shenzhen.zip to /content\n",
            "100% 3.51G/3.51G [00:46<00:00, 91.7MB/s]\n",
            "100% 3.51G/3.51G [00:46<00:00, 81.2MB/s]\n"
          ]
        }
      ]
    },
    {
      "cell_type": "code",
      "source": [
        "!unzip /content/tuberculosis-chest-xrays-shenzhen.zip"
      ],
      "metadata": {
        "id": "V91qoVV8-4Iv"
      },
      "execution_count": null,
      "outputs": []
    },
    {
      "cell_type": "code",
      "source": [
        "!kaggle datasets download -d hmchuong/xray-bone-shadow-supression"
      ],
      "metadata": {
        "colab": {
          "base_uri": "https://localhost:8080/"
        },
        "id": "36en1VL0hC1F",
        "outputId": "b0fe2cf1-2611-40af-e28f-c4f4d8d75ca0"
      },
      "execution_count": null,
      "outputs": [
        {
          "output_type": "stream",
          "name": "stdout",
          "text": [
            "Downloading xray-bone-shadow-supression.zip to /content\n",
            "100% 5.21G/5.23G [00:59<00:00, 141MB/s]\n",
            "100% 5.23G/5.23G [00:59<00:00, 93.7MB/s]\n"
          ]
        }
      ]
    },
    {
      "cell_type": "code",
      "source": [
        "!unzip /content/xray-bone-shadow-supression.zip"
      ],
      "metadata": {
        "id": "sbPP_LxEnNJy"
      },
      "execution_count": null,
      "outputs": []
    },
    {
      "cell_type": "code",
      "source": [
        "!kaggle datasets download -d paultimothymooney/chest-xray-pneumonia"
      ],
      "metadata": {
        "id": "RFzzYFvXykyv",
        "colab": {
          "base_uri": "https://localhost:8080/"
        },
        "outputId": "656468c5-3458-47bf-e43b-d03b03b0e543"
      },
      "execution_count": null,
      "outputs": [
        {
          "output_type": "stream",
          "name": "stdout",
          "text": [
            "Downloading chest-xray-pneumonia.zip to /content\n",
            "100% 2.29G/2.29G [00:13<00:00, 243MB/s]\n",
            "100% 2.29G/2.29G [00:13<00:00, 188MB/s]\n"
          ]
        }
      ]
    },
    {
      "cell_type": "code",
      "source": [
        "!unzip /content/chest-xray-pneumonia"
      ],
      "metadata": {
        "id": "ChvZWrfT7G-S"
      },
      "execution_count": null,
      "outputs": []
    },
    {
      "cell_type": "markdown",
      "source": [
        "# Meta Data Pre-Processing"
      ],
      "metadata": {
        "id": "6WlDJY_w2wGp"
      }
    },
    {
      "cell_type": "code",
      "execution_count": null,
      "metadata": {
        "colab": {
          "base_uri": "https://localhost:8080/",
          "height": 215
        },
        "id": "kmw8cMFjvCDh",
        "outputId": "76e621fa-0384-41ee-a4a0-40fa0e4f98c7"
      },
      "outputs": [
        {
          "output_type": "stream",
          "name": "stdout",
          "text": [
            "Scans found: 800 , Total Headers 800\n"
          ]
        },
        {
          "output_type": "stream",
          "name": "stderr",
          "text": [
            "<ipython-input-1-39fd4125cd4c>:15: FutureWarning: The frame.append method is deprecated and will be removed from pandas in a future version. Use pandas.concat instead.\n",
            "  all_xray_df = montgomery_df.append(shenzhen_df)\n"
          ]
        },
        {
          "output_type": "execute_result",
          "data": {
            "text/plain": [
              "              study_id  age  gender                                 findings  \\\n",
              "382  CHNCXR_0383_1.png   58    Male                            bilateral PTB   \n",
              "513  CHNCXR_0514_1.png   28  Female                            bilateral PTB   \n",
              "427  CHNCXR_0428_1.png   39  Female  secondary PTB  in the right upper field   \n",
              "\n",
              "      datasource                                        path  \n",
              "382  shenzhen_df  ../content/images/images/CHNCXR_0383_1.png  \n",
              "513  shenzhen_df  ../content/images/images/CHNCXR_0514_1.png  \n",
              "427  shenzhen_df  ../content/images/images/CHNCXR_0428_1.png  "
            ],
            "text/html": [
              "\n",
              "  <div id=\"df-da1cf478-6ffb-4dc7-9e52-2831c139718e\" class=\"colab-df-container\">\n",
              "    <div>\n",
              "<style scoped>\n",
              "    .dataframe tbody tr th:only-of-type {\n",
              "        vertical-align: middle;\n",
              "    }\n",
              "\n",
              "    .dataframe tbody tr th {\n",
              "        vertical-align: top;\n",
              "    }\n",
              "\n",
              "    .dataframe thead th {\n",
              "        text-align: right;\n",
              "    }\n",
              "</style>\n",
              "<table border=\"1\" class=\"dataframe\">\n",
              "  <thead>\n",
              "    <tr style=\"text-align: right;\">\n",
              "      <th></th>\n",
              "      <th>study_id</th>\n",
              "      <th>age</th>\n",
              "      <th>gender</th>\n",
              "      <th>findings</th>\n",
              "      <th>datasource</th>\n",
              "      <th>path</th>\n",
              "    </tr>\n",
              "  </thead>\n",
              "  <tbody>\n",
              "    <tr>\n",
              "      <th>382</th>\n",
              "      <td>CHNCXR_0383_1.png</td>\n",
              "      <td>58</td>\n",
              "      <td>Male</td>\n",
              "      <td>bilateral PTB</td>\n",
              "      <td>shenzhen_df</td>\n",
              "      <td>../content/images/images/CHNCXR_0383_1.png</td>\n",
              "    </tr>\n",
              "    <tr>\n",
              "      <th>513</th>\n",
              "      <td>CHNCXR_0514_1.png</td>\n",
              "      <td>28</td>\n",
              "      <td>Female</td>\n",
              "      <td>bilateral PTB</td>\n",
              "      <td>shenzhen_df</td>\n",
              "      <td>../content/images/images/CHNCXR_0514_1.png</td>\n",
              "    </tr>\n",
              "    <tr>\n",
              "      <th>427</th>\n",
              "      <td>CHNCXR_0428_1.png</td>\n",
              "      <td>39</td>\n",
              "      <td>Female</td>\n",
              "      <td>secondary PTB  in the right upper field</td>\n",
              "      <td>shenzhen_df</td>\n",
              "      <td>../content/images/images/CHNCXR_0428_1.png</td>\n",
              "    </tr>\n",
              "  </tbody>\n",
              "</table>\n",
              "</div>\n",
              "    <div class=\"colab-df-buttons\">\n",
              "\n",
              "  <div class=\"colab-df-container\">\n",
              "    <button class=\"colab-df-convert\" onclick=\"convertToInteractive('df-da1cf478-6ffb-4dc7-9e52-2831c139718e')\"\n",
              "            title=\"Convert this dataframe to an interactive table.\"\n",
              "            style=\"display:none;\">\n",
              "\n",
              "  <svg xmlns=\"http://www.w3.org/2000/svg\" height=\"24px\" viewBox=\"0 -960 960 960\">\n",
              "    <path d=\"M120-120v-720h720v720H120Zm60-500h600v-160H180v160Zm220 220h160v-160H400v160Zm0 220h160v-160H400v160ZM180-400h160v-160H180v160Zm440 0h160v-160H620v160ZM180-180h160v-160H180v160Zm440 0h160v-160H620v160Z\"/>\n",
              "  </svg>\n",
              "    </button>\n",
              "\n",
              "  <style>\n",
              "    .colab-df-container {\n",
              "      display:flex;\n",
              "      gap: 12px;\n",
              "    }\n",
              "\n",
              "    .colab-df-convert {\n",
              "      background-color: #E8F0FE;\n",
              "      border: none;\n",
              "      border-radius: 50%;\n",
              "      cursor: pointer;\n",
              "      display: none;\n",
              "      fill: #1967D2;\n",
              "      height: 32px;\n",
              "      padding: 0 0 0 0;\n",
              "      width: 32px;\n",
              "    }\n",
              "\n",
              "    .colab-df-convert:hover {\n",
              "      background-color: #E2EBFA;\n",
              "      box-shadow: 0px 1px 2px rgba(60, 64, 67, 0.3), 0px 1px 3px 1px rgba(60, 64, 67, 0.15);\n",
              "      fill: #174EA6;\n",
              "    }\n",
              "\n",
              "    .colab-df-buttons div {\n",
              "      margin-bottom: 4px;\n",
              "    }\n",
              "\n",
              "    [theme=dark] .colab-df-convert {\n",
              "      background-color: #3B4455;\n",
              "      fill: #D2E3FC;\n",
              "    }\n",
              "\n",
              "    [theme=dark] .colab-df-convert:hover {\n",
              "      background-color: #434B5C;\n",
              "      box-shadow: 0px 1px 3px 1px rgba(0, 0, 0, 0.15);\n",
              "      filter: drop-shadow(0px 1px 2px rgba(0, 0, 0, 0.3));\n",
              "      fill: #FFFFFF;\n",
              "    }\n",
              "  </style>\n",
              "\n",
              "    <script>\n",
              "      const buttonEl =\n",
              "        document.querySelector('#df-da1cf478-6ffb-4dc7-9e52-2831c139718e button.colab-df-convert');\n",
              "      buttonEl.style.display =\n",
              "        google.colab.kernel.accessAllowed ? 'block' : 'none';\n",
              "\n",
              "      async function convertToInteractive(key) {\n",
              "        const element = document.querySelector('#df-da1cf478-6ffb-4dc7-9e52-2831c139718e');\n",
              "        const dataTable =\n",
              "          await google.colab.kernel.invokeFunction('convertToInteractive',\n",
              "                                                    [key], {});\n",
              "        if (!dataTable) return;\n",
              "\n",
              "        const docLinkHtml = 'Like what you see? Visit the ' +\n",
              "          '<a target=\"_blank\" href=https://colab.research.google.com/notebooks/data_table.ipynb>data table notebook</a>'\n",
              "          + ' to learn more about interactive tables.';\n",
              "        element.innerHTML = '';\n",
              "        dataTable['output_type'] = 'display_data';\n",
              "        await google.colab.output.renderOutput(dataTable, element);\n",
              "        const docLink = document.createElement('div');\n",
              "        docLink.innerHTML = docLinkHtml;\n",
              "        element.appendChild(docLink);\n",
              "      }\n",
              "    </script>\n",
              "  </div>\n",
              "\n",
              "\n",
              "<div id=\"df-bbb8521f-999f-4983-a9e9-0ebea0719ed1\">\n",
              "  <button class=\"colab-df-quickchart\" onclick=\"quickchart('df-bbb8521f-999f-4983-a9e9-0ebea0719ed1')\"\n",
              "            title=\"Suggest charts.\"\n",
              "            style=\"display:none;\">\n",
              "\n",
              "<svg xmlns=\"http://www.w3.org/2000/svg\" height=\"24px\"viewBox=\"0 0 24 24\"\n",
              "     width=\"24px\">\n",
              "    <g>\n",
              "        <path d=\"M19 3H5c-1.1 0-2 .9-2 2v14c0 1.1.9 2 2 2h14c1.1 0 2-.9 2-2V5c0-1.1-.9-2-2-2zM9 17H7v-7h2v7zm4 0h-2V7h2v10zm4 0h-2v-4h2v4z\"/>\n",
              "    </g>\n",
              "</svg>\n",
              "  </button>\n",
              "\n",
              "<style>\n",
              "  .colab-df-quickchart {\n",
              "      --bg-color: #E8F0FE;\n",
              "      --fill-color: #1967D2;\n",
              "      --hover-bg-color: #E2EBFA;\n",
              "      --hover-fill-color: #174EA6;\n",
              "      --disabled-fill-color: #AAA;\n",
              "      --disabled-bg-color: #DDD;\n",
              "  }\n",
              "\n",
              "  [theme=dark] .colab-df-quickchart {\n",
              "      --bg-color: #3B4455;\n",
              "      --fill-color: #D2E3FC;\n",
              "      --hover-bg-color: #434B5C;\n",
              "      --hover-fill-color: #FFFFFF;\n",
              "      --disabled-bg-color: #3B4455;\n",
              "      --disabled-fill-color: #666;\n",
              "  }\n",
              "\n",
              "  .colab-df-quickchart {\n",
              "    background-color: var(--bg-color);\n",
              "    border: none;\n",
              "    border-radius: 50%;\n",
              "    cursor: pointer;\n",
              "    display: none;\n",
              "    fill: var(--fill-color);\n",
              "    height: 32px;\n",
              "    padding: 0;\n",
              "    width: 32px;\n",
              "  }\n",
              "\n",
              "  .colab-df-quickchart:hover {\n",
              "    background-color: var(--hover-bg-color);\n",
              "    box-shadow: 0 1px 2px rgba(60, 64, 67, 0.3), 0 1px 3px 1px rgba(60, 64, 67, 0.15);\n",
              "    fill: var(--button-hover-fill-color);\n",
              "  }\n",
              "\n",
              "  .colab-df-quickchart-complete:disabled,\n",
              "  .colab-df-quickchart-complete:disabled:hover {\n",
              "    background-color: var(--disabled-bg-color);\n",
              "    fill: var(--disabled-fill-color);\n",
              "    box-shadow: none;\n",
              "  }\n",
              "\n",
              "  .colab-df-spinner {\n",
              "    border: 2px solid var(--fill-color);\n",
              "    border-color: transparent;\n",
              "    border-bottom-color: var(--fill-color);\n",
              "    animation:\n",
              "      spin 1s steps(1) infinite;\n",
              "  }\n",
              "\n",
              "  @keyframes spin {\n",
              "    0% {\n",
              "      border-color: transparent;\n",
              "      border-bottom-color: var(--fill-color);\n",
              "      border-left-color: var(--fill-color);\n",
              "    }\n",
              "    20% {\n",
              "      border-color: transparent;\n",
              "      border-left-color: var(--fill-color);\n",
              "      border-top-color: var(--fill-color);\n",
              "    }\n",
              "    30% {\n",
              "      border-color: transparent;\n",
              "      border-left-color: var(--fill-color);\n",
              "      border-top-color: var(--fill-color);\n",
              "      border-right-color: var(--fill-color);\n",
              "    }\n",
              "    40% {\n",
              "      border-color: transparent;\n",
              "      border-right-color: var(--fill-color);\n",
              "      border-top-color: var(--fill-color);\n",
              "    }\n",
              "    60% {\n",
              "      border-color: transparent;\n",
              "      border-right-color: var(--fill-color);\n",
              "    }\n",
              "    80% {\n",
              "      border-color: transparent;\n",
              "      border-right-color: var(--fill-color);\n",
              "      border-bottom-color: var(--fill-color);\n",
              "    }\n",
              "    90% {\n",
              "      border-color: transparent;\n",
              "      border-bottom-color: var(--fill-color);\n",
              "    }\n",
              "  }\n",
              "</style>\n",
              "\n",
              "  <script>\n",
              "    async function quickchart(key) {\n",
              "      const quickchartButtonEl =\n",
              "        document.querySelector('#' + key + ' button');\n",
              "      quickchartButtonEl.disabled = true;  // To prevent multiple clicks.\n",
              "      quickchartButtonEl.classList.add('colab-df-spinner');\n",
              "      try {\n",
              "        const charts = await google.colab.kernel.invokeFunction(\n",
              "            'suggestCharts', [key], {});\n",
              "      } catch (error) {\n",
              "        console.error('Error during call to suggestCharts:', error);\n",
              "      }\n",
              "      quickchartButtonEl.classList.remove('colab-df-spinner');\n",
              "      quickchartButtonEl.classList.add('colab-df-quickchart-complete');\n",
              "    }\n",
              "    (() => {\n",
              "      let quickchartButtonEl =\n",
              "        document.querySelector('#df-bbb8521f-999f-4983-a9e9-0ebea0719ed1 button');\n",
              "      quickchartButtonEl.style.display =\n",
              "        google.colab.kernel.accessAllowed ? 'block' : 'none';\n",
              "    })();\n",
              "  </script>\n",
              "</div>\n",
              "    </div>\n",
              "  </div>\n"
            ]
          },
          "metadata": {},
          "execution_count": 1
        }
      ],
      "source": [
        "import numpy as np # linear algebra\n",
        "import pandas as pd # data processing, CSV file I/O (e.g. pd.read_csv)\n",
        "import os\n",
        "from glob import glob\n",
        "%matplotlib inline\n",
        "import matplotlib.pyplot as plt\n",
        "\n",
        "montgomery_df = pd.read_csv('/content/montgomery_metadata.csv')\n",
        "montgomery_df['datasource']='montgomery_df'\n",
        "shenzhen_df = pd.read_csv('/content/shenzhen_metadata.csv')\n",
        "shenzhen_df['datasource']='shenzhen_df'\n",
        "jsrt_df = pd.read_csv('/content/jsrt_metadata.csv')\n",
        "jsrt_df['datasource']='jsrt_df'\n",
        "shenzhen_df=shenzhen_df.rename(columns={'sex':'gender'})\n",
        "all_xray_df = montgomery_df.append(shenzhen_df)\n",
        "all_image_paths = {os.path.basename(x): x for x in\n",
        "                   glob(os.path.join('..', 'content', 'images*', '*', '*.png'))}\n",
        "jsrt_image_paths = {os.path.basename(x): x for x in\n",
        "                   glob(os.path.join('..', 'content', 'JSRT*', '*', '*.png'))}\n",
        "bse_jsrt_image_paths = {os.path.basename(x): x for x in\n",
        "                   glob(os.path.join('..', 'content', 'BSE_JSRT*', '*', '*.png'))}\n",
        "all_xray_df['path']=all_xray_df['study_id'].apply(lambda x:all_image_paths.get(x))\n",
        "jsrt_df['path']=jsrt_df['study_id'].apply(lambda x:jsrt_image_paths.get(x))\n",
        "jsrt_df['bse_path']=jsrt_df['study_id'].apply(lambda x:bse_jsrt_image_paths.get(x))\n",
        "all_xray_df=all_xray_df[all_xray_df['path'].notna()]\n",
        "jsrt_df=jsrt_df[(jsrt_df['path'].notna()) & (jsrt_df['bse_path'].notna())]\n",
        "print('Scans found:', len(all_image_paths), ', Total Headers', all_xray_df.shape[0])\n",
        "all_xray_df.sample(3)"
      ]
    },
    {
      "cell_type": "code",
      "source": [
        "from pathlib import Path\n",
        "# Define path to the data directory\n",
        "data_dir = Path('/content/chest_xray')\n",
        "# Path to train directory (Fancy pathlib...no more os.path!!)\n",
        "train_dir = data_dir / 'train'\n",
        "# Path to validation directory\n",
        "val_dir = data_dir / 'val'\n",
        "# Path to test directory\n",
        "test_dir = data_dir / 'test'\n",
        "########################################################################################\n",
        "# Get the path to the normal and pneumonia sub-directories\n",
        "normal_cases_dir = train_dir / 'NORMAL'\n",
        "pneumonia_cases_dir = train_dir / 'PNEUMONIA'\n",
        "# Get the list of all the images\n",
        "normal_cases = normal_cases_dir.glob('*.jpeg')\n",
        "pneumonia_cases = pneumonia_cases_dir.glob('*.jpeg')\n",
        "# An empty list. We will insert the data into this list in (img_path, label) format\n",
        "train_data = []\n",
        "# Go through all the normal cases. The label for these cases will be 0\n",
        "for img in normal_cases:\n",
        "    train_data.append((img,0))\n",
        "# Go through all the pneumonia cases. The label for these cases will be 1\n",
        "for img in pneumonia_cases:\n",
        "    train_data.append((img, 1))\n",
        "# Get a pandas dataframe from the data we have in our list\n",
        "train_data = pd.DataFrame(train_data, columns=['image', 'label'],index=None)\n",
        "# Shuffle the data\n",
        "train_data = train_data.sample(frac=1.).reset_index(drop=True)\n",
        "########################################################################################\n",
        "# Get the path to the normal and pneumonia sub-directories\n",
        "normal_cases_dir = val_dir / 'NORMAL'\n",
        "pneumonia_cases_dir = val_dir / 'PNEUMONIA'\n",
        "# Get the list of all the images\n",
        "normal_cases = normal_cases_dir.glob('*.jpeg')\n",
        "pneumonia_cases = pneumonia_cases_dir.glob('*.jpeg')\n",
        "# An empty list. We will insert the data into this list in (img_path, label) format\n",
        "valid_data = []\n",
        "# Go through all the normal cases. The label for these cases will be 0\n",
        "for img in normal_cases:\n",
        "    valid_data.append((img,0))\n",
        "# Go through all the pneumonia cases. The label for these cases will be 1\n",
        "for img in pneumonia_cases:\n",
        "    valid_data.append((img, 1))\n",
        "# Get a pandas dataframe from the data we have in our list\n",
        "valid_data = pd.DataFrame(valid_data, columns=['image', 'label'],index=None)\n",
        "# Shuffle the data\n",
        "valid_data = valid_data.sample(frac=1.).reset_index(drop=True)\n",
        "########################################################################################\n",
        "# Get the path to the normal and pneumonia sub-directories\n",
        "normal_cases_dir = test_dir / 'NORMAL'\n",
        "pneumonia_cases_dir = test_dir / 'PNEUMONIA'\n",
        "# Get the list of all the images\n",
        "normal_cases = normal_cases_dir.glob('*.jpeg')\n",
        "pneumonia_cases = pneumonia_cases_dir.glob('*.jpeg')\n",
        "# An empty list. We will insert the data into this list in (img_path, label) format\n",
        "test_data = []\n",
        "# Go through all the normal cases. The label for these cases will be 0\n",
        "for img in normal_cases:\n",
        "    test_data.append((img,0))\n",
        "# Go through all the pneumonia cases. The label for these cases will be 1\n",
        "for img in pneumonia_cases:\n",
        "    test_data.append((img, 1))\n",
        "# Get a pandas dataframe from the data we have in our list\n",
        "test_data = pd.DataFrame(test_data, columns=['image', 'label'],index=None)\n",
        "# Shuffle the data\n",
        "test_data = test_data.sample(frac=1.).reset_index(drop=True)\n",
        "train_data=train_data.append(valid_data)\n",
        "train_data=train_data.append(test_data)"
      ],
      "metadata": {
        "colab": {
          "base_uri": "https://localhost:8080/"
        },
        "id": "JFK194uo7eA8",
        "outputId": "feb502d7-2868-42e7-892d-39884e7cbc6a"
      },
      "execution_count": null,
      "outputs": [
        {
          "output_type": "stream",
          "name": "stderr",
          "text": [
            "<ipython-input-2-4a42f3a67487>:67: FutureWarning: The frame.append method is deprecated and will be removed from pandas in a future version. Use pandas.concat instead.\n",
            "  train_data=train_data.append(valid_data)\n",
            "<ipython-input-2-4a42f3a67487>:68: FutureWarning: The frame.append method is deprecated and will be removed from pandas in a future version. Use pandas.concat instead.\n",
            "  train_data=train_data.append(test_data)\n"
          ]
        }
      ]
    },
    {
      "cell_type": "code",
      "source": [
        "train_data=train_data.rename(columns={'image':'path','label':'findings'})\n",
        "train_data['findings']=np.where(train_data['findings']==1,'abnormal','normal')\n",
        "train_data['path']=train_data['path'].astype(str)\n",
        "train_data['datasource']='train_data'"
      ],
      "metadata": {
        "id": "8VjM0w1k8Tn9"
      },
      "execution_count": null,
      "outputs": []
    },
    {
      "cell_type": "code",
      "source": [
        "# # For training CLAHE Transformed images\n",
        "# all_xray_df['path']=all_xray_df['path'].apply(lambda x:x.replace('/content/images/images/','content/images/transformed_images/'))\n",
        "# train_data['path']=train_data['path'].apply(lambda x:x.replace('/content/chest_xray/train/PNEUMONIA/','/content/chest_xray/CLAHE_Transformed/'))\n",
        "# train_data['path']=train_data['path'].apply(lambda x:x.replace('/content/chest_xray/train/NORMAL/','/content/chest_xray/CLAHE_Transformed/'))\n",
        "# train_data['path']=train_data['path'].apply(lambda x:x.replace('/content/chest_xray/test/PNEUMONIA/','/content/chest_xray/CLAHE_Transformed/'))\n",
        "# train_data['path']=train_data['path'].apply(lambda x:x.replace('/content/chest_xray/test/NORMAL/','/content/chest_xray/CLAHE_Transformed/'))\n",
        "# train_data=train_data[train_data['path'].notna()]"
      ],
      "metadata": {
        "id": "Cip3VhGeNSZp"
      },
      "execution_count": null,
      "outputs": []
    },
    {
      "cell_type": "code",
      "source": [
        "# # For training CLAHE Transformed images\n",
        "# all_xray_df['path']=all_xray_df['path'].apply(lambda x:x.replace('/content/images/images/','content/images/transformed_images_blackhat/'))\n",
        "# train_data['path']=train_data['path'].apply(lambda x:x.replace('/content/chest_xray/train/PNEUMONIA/','/content/chest_xray/BLACKHAT_Transformed/'))\n",
        "# train_data['path']=train_data['path'].apply(lambda x:x.replace('/content/chest_xray/train/NORMAL/','/content/chest_xray/BLACKHAT_Transformed/'))\n",
        "# train_data['path']=train_data['path'].apply(lambda x:x.replace('/content/chest_xray/test/PNEUMONIA/','/content/chest_xray/BLACKHAT_Transformed/'))\n",
        "# train_data['path']=train_data['path'].apply(lambda x:x.replace('/content/chest_xray/test/NORMAL/','/content/chest_xray/BLACKHAT_Transformed/'))\n",
        "# train_data=train_data[train_data['path'].notna()]"
      ],
      "metadata": {
        "id": "A9Hk0cuy5TJq"
      },
      "execution_count": null,
      "outputs": []
    },
    {
      "cell_type": "code",
      "source": [
        "all_xray_df=all_xray_df.append(train_data)"
      ],
      "metadata": {
        "colab": {
          "base_uri": "https://localhost:8080/"
        },
        "id": "ZxFKmwN98u20",
        "outputId": "a52ab4d0-d755-4964-e83f-3eb6d28efba9"
      },
      "execution_count": null,
      "outputs": [
        {
          "output_type": "stream",
          "name": "stderr",
          "text": [
            "<ipython-input-6-0742edc2fb46>:1: FutureWarning: The frame.append method is deprecated and will be removed from pandas in a future version. Use pandas.concat instead.\n",
            "  all_xray_df=all_xray_df.append(train_data)\n"
          ]
        }
      ]
    }
  ]
}